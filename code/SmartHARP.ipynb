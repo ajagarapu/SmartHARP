{
 "cells": [
  {
   "cell_type": "code",
   "execution_count": null,
   "metadata": {
    "collapsed": true
   },
   "outputs": [],
   "source": []
  },
  {
   "cell_type": "code",
   "execution_count": 1,
   "metadata": {
    "collapsed": true
   },
   "outputs": [],
   "source": [
    "import numpy as np\n",
    "import matplotlib.pyplot as plt\n",
    "from sklearn import linear_model"
   ]
  },
  {
   "cell_type": "code",
   "execution_count": 2,
   "metadata": {
    "collapsed": false
   },
   "outputs": [
    {
     "name": "stdout",
     "output_type": "stream",
     "text": [
      "x_train:\n",
      "\n",
      "[[ 0.04357967 -0.00597022 -0.03505434 ..., -0.84155851  0.17991281\n",
      "  -0.05171842]\n",
      " [ 0.03948004 -0.00213128 -0.02906736 ..., -0.8450924   0.18026111\n",
      "  -0.04743634]\n",
      " [ 0.03997778 -0.00515272 -0.02265071 ..., -0.84923013  0.18060956\n",
      "  -0.04227136]\n",
      " ..., \n",
      " [ 0.03745094 -0.00272442  0.02100941 ..., -0.77956634  0.24912145\n",
      "   0.04707077]\n",
      " [ 0.04401105 -0.00453578 -0.0512422  ..., -0.78560327  0.24640867\n",
      "   0.03170003]\n",
      " [ 0.06895376  0.00181032 -0.08032343 ..., -0.78369253  0.24678499\n",
      "   0.04298129]]\n",
      "y_train:\n",
      "\n",
      "[ 5.  5.  5. ...,  2.  2.  2.]\n",
      "x_test:\n",
      "\n",
      "[[ 0.0309139  -0.00892689  0.04038223 ..., -0.7205591   0.27677941\n",
      "  -0.05107403]\n",
      " [ 0.04254816  0.00107859 -0.02623642 ..., -0.6986837   0.28132158\n",
      "  -0.07682459]\n",
      " [ 0.0382968  -0.01166028 -0.0256426  ..., -0.70335515  0.28006162\n",
      "  -0.07230248]\n",
      " ..., \n",
      " [ 0.06833377  0.04382217 -0.02413471 ..., -0.65603364  0.27445701\n",
      "   0.18652707]\n",
      " [ 0.02301605  0.03234511 -0.01182959 ..., -0.66038682  0.26475922\n",
      "   0.1928648 ]\n",
      " [-0.0108462  -0.00413392 -0.03767837 ..., -0.66074775  0.26391374\n",
      "   0.19340177]]\n",
      "y_test:\n",
      "\n",
      "[ 5.  5.  5. ...,  2.  2.  2.]\n"
     ]
    }
   ],
   "source": [
    "#Data Loading\n",
    "\n",
    "#Training Data \n",
    "x_train=np.loadtxt(\"../data/Train/X_train.txt\")\n",
    "y_train=np.loadtxt(\"../data/Train/y_train.txt\")\n",
    "subjects_train=np.loadtxt(\"../data/Train/subject_id_train.txt\")\n",
    "#Test Data\n",
    "x_test=np.loadtxt(\"../data/Test/X_test.txt\")\n",
    "y_test=np.loadtxt(\"../data/Test/y_test.txt\")\n",
    "subjects_test=np.loadtxt(\"../data/Test/subject_id_test.txt\")\n",
    "\n",
    "x_total=np.concatenate((x_train,x_test))\n",
    "y_total=np.concatenate((y_train,y_test))\n",
    "print \"x_train:\\n\"\n",
    "print x_train\n",
    "print \"y_train:\\n\"\n",
    "print y_train\n",
    "print \"x_test:\\n\"\n",
    "print x_test\n",
    "print \"y_test:\\n\"\n",
    "print y_test"
   ]
  },
  {
   "cell_type": "code",
   "execution_count": 23,
   "metadata": {
    "collapsed": false
   },
   "outputs": [],
   "source": [
    "#Standing\n",
    "plt.plot([k*10000 for k in range(len(x_test[0]))],x_test[0])\n",
    "plt.plot([k*10000 for k in range(len(x_test[1]))],x_test[1])\n",
    "#plt.plot([k*10000 for k in range(len(x_test[329]))],x_test[329])\n",
    "plt.plot([k*10000 for k in range(len(x_test[2]))],x_test[2])\n",
    "plt.plot([k*10000 for k in range(len(x_test[3]))],x_test[3])\n",
    "plt.show()"
   ]
  },
  {
   "cell_type": "code",
   "execution_count": 20,
   "metadata": {
    "collapsed": true
   },
   "outputs": [],
   "source": [
    "#Sitting\n",
    "plt.plot([k*10000 for k in range(len(x_train[17]))],x_train[17])\n",
    "plt.plot([k*10000 for k in range(len(x_train[18]))],x_train[18])\n",
    "plt.plot([k*10000 for k in range(len(x_train[19]))],x_train[19])\n",
    "plt.plot([k*10000 for k in range(len(x_train[20]))],x_train[20])\n",
    "plt.show()"
   ]
  },
  {
   "cell_type": "code",
   "execution_count": 21,
   "metadata": {
    "collapsed": true
   },
   "outputs": [],
   "source": [
    "#STAND_TO_LIE\n",
    "plt.plot([k*10000 for k in range(len(x_train[47]))],x_train[47])\n",
    "plt.plot([k*10000 for k in range(len(x_train[48]))],x_train[48])\n",
    "plt.plot([k*10000 for k in range(len(x_train[49]))],x_train[49])\n",
    "plt.plot([k*10000 for k in range(len(x_train[50]))],x_train[50])\n",
    "plt.show()"
   ]
  },
  {
   "cell_type": "code",
   "execution_count": 22,
   "metadata": {
    "collapsed": true
   },
   "outputs": [],
   "source": [
    "#LAYING\n",
    "plt.plot([k*10000 for k in range(len(x_train[52]))],x_train[52])\n",
    "plt.plot([k*10000 for k in range(len(x_train[53]))],x_train[53])\n",
    "plt.plot([k*10000 for k in range(len(x_train[54]))],x_train[54])\n",
    "plt.plot([k*10000 for k in range(len(x_train[55]))],x_train[55])\n",
    "plt.show()"
   ]
  },
  {
   "cell_type": "code",
   "execution_count": 24,
   "metadata": {
    "collapsed": true
   },
   "outputs": [],
   "source": [
    "#LIE_TO_SIT\n",
    "plt.plot([k*10000 for k in range(len(x_train[63]))],x_train[63])\n",
    "plt.plot([k*10000 for k in range(len(x_train[64]))],x_train[64])\n",
    "plt.plot([k*10000 for k in range(len(x_train[65]))],x_train[65])\n",
    "plt.plot([k*10000 for k in range(len(x_train[221]))],x_train[221])\n",
    "plt.show()"
   ]
  },
  {
   "cell_type": "code",
   "execution_count": null,
   "metadata": {
    "collapsed": true
   },
   "outputs": [],
   "source": []
  }
 ],
 "metadata": {
  "kernelspec": {
   "display_name": "Python 2",
   "language": "python",
   "name": "python2"
  },
  "language_info": {
   "codemirror_mode": {
    "name": "ipython",
    "version": 2
   },
   "file_extension": ".py",
   "mimetype": "text/x-python",
   "name": "python",
   "nbconvert_exporter": "python",
   "pygments_lexer": "ipython2",
   "version": "2.7.10"
  }
 },
 "nbformat": 4,
 "nbformat_minor": 0
}
